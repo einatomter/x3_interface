{
 "cells": [
  {
   "cell_type": "code",
   "execution_count": 9,
   "metadata": {},
   "outputs": [],
   "source": [
    "import time\n",
    "import blueye.sdk\n",
    "from blueye.sdk import Drone\n"
   ]
  },
  {
   "cell_type": "code",
   "execution_count": 5,
   "metadata": {},
   "outputs": [],
   "source": [
    "myDrone = Drone()\n"
   ]
  },
  {
   "cell_type": "code",
   "execution_count": 7,
   "metadata": {},
   "outputs": [],
   "source": [
    "myDrone.lights = 0\n"
   ]
  },
  {
   "cell_type": "code",
   "execution_count": 10,
   "metadata": {},
   "outputs": [
    {
     "name": "stderr",
     "output_type": "stream",
     "text": [
      "Exception in thread Thread-7:\n",
      "Traceback (most recent call last):\n",
      "  File \"/usr/lib/python3.8/threading.py\", line 932, in _bootstrap_inner\n",
      "    self.run()\n",
      "  File \"/home/einar/.local/lib/python3.8/site-packages/blueye/protocol/tcp_client.py\", line 63, in run\n",
      "    self.watchdog(i)\n",
      "  File \"/home/einar/.local/lib/python3.8/site-packages/blueye/protocol/tcp_protocol_class.py\", line 685, in watchdog\n",
      "    self.send_and_receive(msg, expects_reply=False)\n",
      "  File \"/home/einar/.local/lib/python3.8/site-packages/blueye/protocol/tcp_client.py\", line 140, in send_and_receive\n",
      "    self.send_msg(msg)\n",
      "  File \"/home/einar/.local/lib/python3.8/site-packages/blueye/protocol/tcp_client.py\", line 105, in send_msg\n",
      "    self._sock.send(msg)\n",
      "OSError: [Errno 101] Network is unreachable\n"
     ]
    }
   ],
   "source": [
    "blueye.sdk.open_local_documentation()"
   ]
  }
 ],
 "metadata": {
  "kernelspec": {
   "display_name": "Python 3",
   "language": "python",
   "name": "python3"
  },
  "language_info": {
   "codemirror_mode": {
    "name": "ipython",
    "version": 3
   },
   "file_extension": ".py",
   "mimetype": "text/x-python",
   "name": "python",
   "nbconvert_exporter": "python",
   "pygments_lexer": "ipython3",
   "version": "3.8.10"
  },
  "orig_nbformat": 4,
  "vscode": {
   "interpreter": {
    "hash": "e7370f93d1d0cde622a1f8e1c04877d8463912d04d973331ad4851f04de6915a"
   }
  }
 },
 "nbformat": 4,
 "nbformat_minor": 2
}
